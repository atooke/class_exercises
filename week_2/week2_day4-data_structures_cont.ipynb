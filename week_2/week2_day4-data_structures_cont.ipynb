{
 "cells": [
  {
   "cell_type": "markdown",
   "metadata": {},
   "source": [
    "## Tuple Warmup"
   ]
  },
  {
   "cell_type": "code",
   "execution_count": 10,
   "metadata": {},
   "outputs": [
    {
     "name": "stdout",
     "output_type": "stream",
     "text": [
      "('diamond', 'spade')\n"
     ]
    }
   ],
   "source": [
    "# appropriate as its immutable\n",
    "\n",
    "my_tup = ('diamond', 'club', 'spade', 'heart')\n",
    "print(my_tup[::2])"
   ]
  },
  {
   "cell_type": "code",
   "execution_count": 4,
   "metadata": {},
   "outputs": [
    {
     "name": "stdout",
     "output_type": "stream",
     "text": [
      "diamond\n"
     ]
    }
   ],
   "source": [
    "#Now, change the print statement to print out the 1st element in the tuple (e.g. diamond).\n",
    "print(my_tup[0])"
   ]
  },
  {
   "cell_type": "code",
   "execution_count": 5,
   "metadata": {},
   "outputs": [
    {
     "name": "stdout",
     "output_type": "stream",
     "text": [
      "('diamond', 'spade')\n"
     ]
    }
   ],
   "source": [
    "#Now, change the print statement to print out every other element.\n",
    "print(my_tup[::2])"
   ]
  },
  {
   "cell_type": "code",
   "execution_count": null,
   "metadata": {},
   "outputs": [],
   "source": [
    "#Why are we able to grab individual elements (or every other element) from the tuple just as if it is a list?\n",
    "\n",
    "# because it can be sliced / accessed via index"
   ]
  },
  {
   "cell_type": "code",
   "execution_count": 7,
   "metadata": {},
   "outputs": [
    {
     "name": "stdout",
     "output_type": "stream",
     "text": [
      "diamond\n",
      "club\n",
      "spade\n",
      "heart\n"
     ]
    }
   ],
   "source": [
    "#Now, alter it so that it prints out each of the elements, one at a time on a new line. Use a for loop to do this. \n",
    "#Why are we able to use a for loop on the tuple like this?\n",
    "\n",
    "for i in my_tup:\n",
    "    print(i)\n",
    "\n",
    "\n"
   ]
  },
  {
   "cell_type": "code",
   "execution_count": 9,
   "metadata": {},
   "outputs": [
    {
     "data": {
      "text/plain": [
       "('diamond', 'club', 'spade', 'heart', 'gorilla')"
      ]
     },
     "execution_count": 9,
     "metadata": {},
     "output_type": "execute_result"
    }
   ],
   "source": [
    "#Now, say that I want to add a new suit to my card deck. Let's call it gorilla (who doesn't like a gorilla suit). \n",
    "#How would I do this? Why can't we use append on a tuple like we can on a list?\n",
    "\n",
    "new_tuple = my_tup + ('gorilla',)\n",
    "new_tuple\n",
    "\n",
    "\n"
   ]
  },
  {
   "cell_type": "markdown",
   "metadata": {},
   "source": [
    "## Dictionary warmup"
   ]
  },
  {
   "cell_type": "markdown",
   "metadata": {},
   "source": [
    "#### Question : First, examine the code in warmup2.py. What do you think it will print when run? Why does it print this?\n",
    "\n",
    "Answer : print the keys only\n"
   ]
  },
  {
   "cell_type": "code",
   "execution_count": 11,
   "metadata": {},
   "outputs": [
    {
     "name": "stdout",
     "output_type": "stream",
     "text": [
      "Texas\n",
      "Indiana\n",
      "Illinois\n",
      "New York\n"
     ]
    }
   ],
   "source": [
    "my_dct = {'Texas': 'Austin', 'Indiana': 'Indianapolis', 'Illinois': 'Chicago', 'New York': 'New York City'}\n",
    "for element in my_dct:\n",
    "    print(element)"
   ]
  },
  {
   "cell_type": "markdown",
   "metadata": {},
   "source": [
    "Q: Why is it appropriate to use a dictionary in this scenario?\n",
    "A: It is storing key/pair values."
   ]
  },
  {
   "cell_type": "code",
   "execution_count": 12,
   "metadata": {},
   "outputs": [
    {
     "name": "stdout",
     "output_type": "stream",
     "text": [
      "Texas\n",
      "Indiana\n",
      "Illinois\n",
      "New York\n"
     ]
    }
   ],
   "source": [
    "#Okay, so you will by now have noticed what it printed. Change the element variable that is storing the key through \n",
    "#each iteration of the loop to be a more descriptive variable name.\n",
    "my_dct = {'Texas': 'Austin', 'Indiana': 'Indianapolis', 'Illinois': 'Chicago', 'New York': 'New York City'}\n",
    "for state in my_dct:\n",
    "    print(state)\n"
   ]
  },
  {
   "cell_type": "code",
   "execution_count": 15,
   "metadata": {},
   "outputs": [
    {
     "name": "stdout",
     "output_type": "stream",
     "text": [
      "Texas Austin\n",
      "Indiana Indianapolis\n",
      "Illinois Chicago\n",
      "New York New York City\n"
     ]
    }
   ],
   "source": [
    "#Now, change the loop so that it not only prints the key at every iteration, but both the key and value (i.e. print the state\n",
    "#as well as the city in the loop).\n",
    "for state, capital in my_dct.items():\n",
    "    print(state, capital)\n",
    "    \n",
    "\n"
   ]
  },
  {
   "cell_type": "code",
   "execution_count": 16,
   "metadata": {},
   "outputs": [
    {
     "data": {
      "text/plain": [
       "{'Illinois': 'Chicago',\n",
       " 'Indiana': 'Indianapolis',\n",
       " 'New York': 'New York City',\n",
       " 'North Carolina': 'Raleigh',\n",
       " 'Ohio': 'DontKnowVille',\n",
       " 'Texas': 'Austin'}"
      ]
     },
     "execution_count": 16,
     "metadata": {},
     "output_type": "execute_result"
    }
   ],
   "source": [
    "#Build another dictionary that stores the state and capital of the state you grew up in, as well as the state and capital \n",
    "#of the state your neighbor grew up in. Call this neighbor_dct, and put it on the second line of the warmup2.py script \n",
    "#(before the for loop).\n",
    "\n",
    "#Now, add a line before the for loop that adds the key-value pairs in neighbor_dct to my_dct. my_dct should now have the \n",
    "#contents from it's previous state and also neighbor_dct.\n",
    "my_dct = {'Texas': 'Austin', 'Indiana': 'Indianapolis', 'Illinois': 'Chicago', 'New York': 'New York City'}\n",
    "neighbor_dct = {'North Carolina' : 'Raleigh',\n",
    "                'Ohio' : 'DontKnowVille'}\n",
    "\n",
    "my_dct.update(neighbor_dct)\n",
    "my_dct\n",
    "\n"
   ]
  },
  {
   "cell_type": "code",
   "execution_count": 23,
   "metadata": {},
   "outputs": [
    {
     "data": {
      "text/plain": [
       "'Capital not found!'"
      ]
     },
     "execution_count": 23,
     "metadata": {},
     "output_type": "execute_result"
    }
   ],
   "source": [
    "#Modify warmup2.py to take in a user inputted state. Then, take that user inputted state, and if it is in my_dct, print out \n",
    "#it's capital. If it's not, then print out 'Capital not found!'.\n",
    "usr_input = input('Please enter state: ').title()\n",
    "my_dct.get(usr_input, 'Capital not found!')\n",
    "\n"
   ]
  },
  {
   "cell_type": "code",
   "execution_count": null,
   "metadata": {},
   "outputs": [],
   "source": [
    "#Now, modify warmup2.py to ask the user for a state name. If it is not already in my_dct, have your script prompt the user \n",
    "#for a capital to associate with that state name.\n",
    "usr_input = input('Please enter state: ').title()\n",
    "if usr_input not in my_dct.keys():\n",
    "    usr_input_capital = input('please enter capital:')\n",
    "    my_dct[usr_input] = usr_input\n",
    "my_dct"
   ]
  },
  {
   "cell_type": "markdown",
   "metadata": {},
   "source": [
    "### Set warm up:"
   ]
  },
  {
   "cell_type": "code",
   "execution_count": 4,
   "metadata": {},
   "outputs": [
    {
     "data": {
      "text/plain": [
       "{3, 5}"
      ]
     },
     "execution_count": 4,
     "metadata": {},
     "output_type": "execute_result"
    }
   ],
   "source": [
    "my_set = {2, 3, 5}\n",
    "my_fav_primes = {3,5,9}\n",
    "# my_set & my_fav_primes intersect:\n",
    "my_set & my_fav_primes\n",
    "#for num in my_set:\n",
    "\n",
    "#print(num)"
   ]
  },
  {
   "cell_type": "code",
   "execution_count": 7,
   "metadata": {},
   "outputs": [
    {
     "data": {
      "text/plain": [
       "{2}"
      ]
     },
     "execution_count": 7,
     "metadata": {},
     "output_type": "execute_result"
    }
   ],
   "source": [
    "#change your code to get only the numbers that are in my_set but aren't in my_fav_primes. Store these in a \n",
    "#third set, and alter the for loop to print out the numbers in this third set.\n",
    "third_set = my_set - my_fav_primes\n",
    "third_set\n"
   ]
  },
  {
   "cell_type": "code",
   "execution_count": 10,
   "metadata": {},
   "outputs": [
    {
     "name": "stdout",
     "output_type": "stream",
     "text": [
      "2\n",
      "3\n",
      "5\n",
      "9\n"
     ]
    }
   ],
   "source": [
    "#Create a new set with the elements from both my_fav_primes and my_set, and name it my_tot_primes. Alter the\n",
    "#for loop to print out its values.\n",
    "\n",
    "my_total_primes = my_set | my_fav_primes\n",
    "for i in my_total_primes:\n",
    "    print(i)\n",
    "\n"
   ]
  },
  {
   "cell_type": "code",
   "execution_count": 14,
   "metadata": {},
   "outputs": [
    {
     "data": {
      "text/plain": [
       "{2, 3, 5, 9, 101}"
      ]
     },
     "execution_count": 14,
     "metadata": {},
     "output_type": "execute_result"
    }
   ],
   "source": [
    "#Now, modify warmup3.py to take in a user inputted prime, and then add it to my_tot_primes.\n",
    "usr_input = int(input('please enter prime:'))\n",
    "my_total_primes.add(usr_input)\n",
    "{i for i in my_total_primes}\n"
   ]
  },
  {
   "cell_type": "markdown",
   "metadata": {},
   "source": [
    "## Assignment Questions"
   ]
  },
  {
   "cell_type": "markdown",
   "metadata": {},
   "source": [
    "#### Part 1 - Practice with Tuples"
   ]
  },
  {
   "cell_type": "markdown",
   "metadata": {},
   "source": [
    "Write a script that prompts the user to input numbers separated by commas. Your script will then take these inputted numbers and store them as a list of tuples, two at a time. Finally, your script will print that list of tuples to the user. If the user inputs an odd number of numbers, then only make a list of the largest number of pairs of two that are possible.\n",
    "Example: If you inputted the numbers 1, 2, 3, 4, 5, 6, your script should print [(1, 2), (3, 4), (5, 6)]. If you inputted the numbers 1, 2, 3, 4, 5, your script should print [(1, 2), (3, 4)].\n",
    "\n",
    "Hint: Check out the zip function. While you don't have to use it, it could make things easier."
   ]
  },
  {
   "cell_type": "code",
   "execution_count": 20,
   "metadata": {},
   "outputs": [
    {
     "name": "stdout",
     "output_type": "stream",
     "text": [
      "('1', '2')\n",
      "('3', '4')\n"
     ]
    },
    {
     "data": {
      "text/plain": [
       "[None, None]"
      ]
     },
     "execution_count": 20,
     "metadata": {},
     "output_type": "execute_result"
    }
   ],
   "source": [
    "usr_input = input('please enter numbers seperated by comma: ').split(',')\n",
    "result = zip(usr_input[0::2],usr_input[1::2])\n",
    "[print(i) for i in result]\n"
   ]
  },
  {
   "cell_type": "markdown",
   "metadata": {},
   "source": [
    "#### Part 2 - Practice with Dictionaries"
   ]
  },
  {
   "cell_type": "markdown",
   "metadata": {},
   "source": [
    "Write a script that prompts the user to input numbers separated by dashes ( - ). Your script will take those numbers, and print a dictionary where the keys are the inputted numbers, and the values are the squares of those numbers.\n",
    "Example: If you inputted the numbers 1 - 5 - 8 - 10, your script should print {8: 64, 1: 1, 10: 100, 5: 25} (remember that dictionaries are unordered, which is why the script might print out the key-value pairs in a different order than the user inputted the numbers)."
   ]
  },
  {
   "cell_type": "code",
   "execution_count": 31,
   "metadata": {},
   "outputs": [
    {
     "name": "stdout",
     "output_type": "stream",
     "text": [
      "1 1\n",
      "3 9\n",
      "5 25\n"
     ]
    },
    {
     "data": {
      "text/plain": [
       "{None}"
      ]
     },
     "execution_count": 31,
     "metadata": {},
     "output_type": "execute_result"
    }
   ],
   "source": [
    "usr_input = input('please enter numbers seperated by dash (12-21-21): ').split('-')\n",
    "usr_input\n",
    "dct = {i: int(i)**2 for i in usr_input}\n",
    "{print(k,v) for k, v in sorted(dct.items())}\n",
    "\n",
    "\n"
   ]
  },
  {
   "cell_type": "markdown",
   "metadata": {},
   "source": [
    "Write a script that prompts the user for a state name. It will then check that state name against the dictionary below to give back the capital of that state. However, you'll notice that the dictionary doesn't know the capitals for all the states. If the user inputs the name of a state that isn't in the dictionary, your script should print that the capital is unknown.\n",
    "   state_dictionary = {'Colorado': 'Denver', 'Alaska': 'Juneau', 'California': 'Sacramento',\n",
    "                       'Georgia': 'Atlanta', 'Kansas': 'Topeka', 'Nebraska': 'Lincoln',\n",
    "                       'Oregon': 'Salem', 'Texas': 'Austin', 'New York': 'Albany'}\n",
    "Example: If you inputted the state name Kansas, your script should print Topeka. If you inputted the state name Washington, your script should print Capital unknown.\n",
    "\n",
    "How could you make it so that your script isn't sensitive to the case of the inputted state? (Hint: one of the easiest ways is by changing the state dictionary slightly and using a method on your input string.)"
   ]
  },
  {
   "cell_type": "code",
   "execution_count": 33,
   "metadata": {},
   "outputs": [
    {
     "name": "stdout",
     "output_type": "stream",
     "text": [
      "Capital unknown\n"
     ]
    }
   ],
   "source": [
    "usr_input = input('please enter state name: ').title()\n",
    "state_dictionary = {'Colorado': 'Denver', 'Alaska': 'Juneau', 'California': 'Sacramento',\n",
    "                       'Georgia': 'Atlanta', 'Kansas': 'Topeka', 'Nebraska': 'Lincoln',\n",
    "                       'Oregon': 'Salem', 'Texas': 'Austin', 'New York': 'Albany'}\n",
    "print(state_dictionary.get(usr_input, 'Capital unknown'))\n",
    "# use title on usr_input to ensure that it will match user input\n"
   ]
  },
  {
   "cell_type": "markdown",
   "metadata": {},
   "source": [
    "Write a script that will continually prompt the user for a set of three things to be separated by commas. The first two things will be (x, y) coordinates of the word that follows (the word will be the third thing). So the user will input a string that is formatted like x, y, word. Your script will use the string to build a dictionary with the first two inputs (i.e. the (x, y)) from each string as keys to a dictionary, and the third input (the word) as the value for that key. The script will continually prompt the user to input strings in this format until the user inputs nothing (i.e. hits enter with no input).\n",
    "After building the dictionary, your script should allow the user to query the dictionary it built by accepting strings of the format x, y. It should check if the coordinate is in the dictionary, and if it is return the corresponding word. If it isn't, it should print Coordinate not found. This should continue until the user inputs the letter q, at which point the script should exit.\n",
    "\n",
    "Example usage:\n",
    "\n",
    "Please enter a coordinate-word pair in the format (x, y, word): 1, 2, hello\n",
    "Please enter a coordinate-word pair in the format (x, y, word): 2, 3, world\n",
    "Please enter a coordinate-word pair in the format (x, y, word):\n",
    "Please enter a coordinate to look up: 2, 3  \n",
    "world\n",
    "Please enter a coordinate to look up: 3, 4\n",
    "Coordinate not found\n",
    "Please enter a coordinate to look up: q"
   ]
  },
  {
   "cell_type": "code",
   "execution_count": 2,
   "metadata": {},
   "outputs": [
    {
     "name": "stdout",
     "output_type": "stream",
     "text": [
      "dave\n",
      "andy\n"
     ]
    }
   ],
   "source": [
    "dct = {}\n",
    "usr_input = 'dummy_val'\n",
    "while True:\n",
    "    usr_input = input('Please enter a coordinate-word pair in the format (x, y, word):')\n",
    "    if len(usr_input) > 1:\n",
    "        items = usr_input.split(',')\n",
    "        key = \",\".join(items[0:2])\n",
    "        if key not in dct.keys():\n",
    "            dct[key] = items[2]\n",
    "    else:\n",
    "        break\n",
    "                \n",
    "\n",
    "while True:\n",
    "    usr_input = input('Please enter a coordinate-word to look up:')\n",
    "    if usr_input in 'q':\n",
    "        break\n",
    "    else:\n",
    "        print(dct.get(usr_input, 'coordinate not found'))\n",
    "    \n",
    "    "
   ]
  },
  {
   "cell_type": "code",
   "execution_count": null,
   "metadata": {},
   "outputs": [],
   "source": []
  },
  {
   "cell_type": "code",
   "execution_count": null,
   "metadata": {},
   "outputs": [],
   "source": []
  }
 ],
 "metadata": {
  "kernelspec": {
   "display_name": "Python 3",
   "language": "python",
   "name": "python3"
  },
  "language_info": {
   "codemirror_mode": {
    "name": "ipython",
    "version": 3
   },
   "file_extension": ".py",
   "mimetype": "text/x-python",
   "name": "python",
   "nbconvert_exporter": "python",
   "pygments_lexer": "ipython3",
   "version": "3.6.3"
  }
 },
 "nbformat": 4,
 "nbformat_minor": 2
}
